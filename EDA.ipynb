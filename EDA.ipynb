{
 "cells": [
  {
   "cell_type": "code",
   "execution_count": 2,
   "metadata": {},
   "outputs": [],
   "source": [
    "# python_candlestick_chart.py\n",
    "\n",
    "import matplotlib.pyplot as plt\n",
    "from mpl_finance import candlestick_ohlc\n",
    "import pandas as pd\n",
    "from datetime import datetime\n",
    "import mplfinance as mpf\n",
    "import matplotlib.dates as mpl_dates\n",
    "plt.style.use('ggplot')\n"
   ]
  },
  {
   "cell_type": "code",
   "execution_count": 15,
   "metadata": {},
   "outputs": [
    {
     "output_type": "stream",
     "name": "stdout",
     "text": "0 1414\n1 1421\n2 1414\n3 1414\n"
    }
   ],
   "source": [
    "experiment = 'processed/image_data/period/2016-06-30---2019-10-03---1d---10'\n",
    "\n",
    "for el in os.listdir(experiment):\n",
    "    print(el, len(os.listdir(experiment + '/' + el)))"
   ]
  },
  {
   "cell_type": "code",
   "execution_count": 9,
   "metadata": {},
   "outputs": [],
   "source": [
    "data = pd.DataFrame([1,2,4,2,1,1,-1,1,2,3,4,3,2,3,2,1])"
   ]
  },
  {
   "cell_type": "code",
   "execution_count": 12,
   "metadata": {},
   "outputs": [],
   "source": [
    "data['pct'] = data.pct_change()\n",
    "bins = 4"
   ]
  },
  {
   "cell_type": "code",
   "execution_count": 13,
   "metadata": {},
   "outputs": [],
   "source": [
    "data['pct_change_bins'] = pd.qcut(data['pct'], q=bins, labels=[x for x in range(0, bins)])"
   ]
  },
  {
   "cell_type": "code",
   "execution_count": 14,
   "metadata": {},
   "outputs": [
    {
     "output_type": "execute_result",
     "data": {
      "text/plain": "    0       pct pct_change_bins\n0   1       NaN             NaN\n1   2  1.000000               3\n2   4  1.000000               3\n3   2 -0.500000               0\n4   1 -0.500000               0\n5   1  0.000000               2\n6  -1 -2.000000               0\n7   1 -2.000000               0\n8   2  1.000000               3\n9   3  0.500000               2\n10  4  0.333333               2\n11  3 -0.250000               1\n12  2 -0.333333               1\n13  3  0.500000               2\n14  2 -0.333333               1\n15  1 -0.500000               0",
      "text/html": "<div>\n<style scoped>\n    .dataframe tbody tr th:only-of-type {\n        vertical-align: middle;\n    }\n\n    .dataframe tbody tr th {\n        vertical-align: top;\n    }\n\n    .dataframe thead th {\n        text-align: right;\n    }\n</style>\n<table border=\"1\" class=\"dataframe\">\n  <thead>\n    <tr style=\"text-align: right;\">\n      <th></th>\n      <th>0</th>\n      <th>pct</th>\n      <th>pct_change_bins</th>\n    </tr>\n  </thead>\n  <tbody>\n    <tr>\n      <th>0</th>\n      <td>1</td>\n      <td>NaN</td>\n      <td>NaN</td>\n    </tr>\n    <tr>\n      <th>1</th>\n      <td>2</td>\n      <td>1.000000</td>\n      <td>3</td>\n    </tr>\n    <tr>\n      <th>2</th>\n      <td>4</td>\n      <td>1.000000</td>\n      <td>3</td>\n    </tr>\n    <tr>\n      <th>3</th>\n      <td>2</td>\n      <td>-0.500000</td>\n      <td>0</td>\n    </tr>\n    <tr>\n      <th>4</th>\n      <td>1</td>\n      <td>-0.500000</td>\n      <td>0</td>\n    </tr>\n    <tr>\n      <th>5</th>\n      <td>1</td>\n      <td>0.000000</td>\n      <td>2</td>\n    </tr>\n    <tr>\n      <th>6</th>\n      <td>-1</td>\n      <td>-2.000000</td>\n      <td>0</td>\n    </tr>\n    <tr>\n      <th>7</th>\n      <td>1</td>\n      <td>-2.000000</td>\n      <td>0</td>\n    </tr>\n    <tr>\n      <th>8</th>\n      <td>2</td>\n      <td>1.000000</td>\n      <td>3</td>\n    </tr>\n    <tr>\n      <th>9</th>\n      <td>3</td>\n      <td>0.500000</td>\n      <td>2</td>\n    </tr>\n    <tr>\n      <th>10</th>\n      <td>4</td>\n      <td>0.333333</td>\n      <td>2</td>\n    </tr>\n    <tr>\n      <th>11</th>\n      <td>3</td>\n      <td>-0.250000</td>\n      <td>1</td>\n    </tr>\n    <tr>\n      <th>12</th>\n      <td>2</td>\n      <td>-0.333333</td>\n      <td>1</td>\n    </tr>\n    <tr>\n      <th>13</th>\n      <td>3</td>\n      <td>0.500000</td>\n      <td>2</td>\n    </tr>\n    <tr>\n      <th>14</th>\n      <td>2</td>\n      <td>-0.333333</td>\n      <td>1</td>\n    </tr>\n    <tr>\n      <th>15</th>\n      <td>1</td>\n      <td>-0.500000</td>\n      <td>0</td>\n    </tr>\n  </tbody>\n</table>\n</div>"
     },
     "metadata": {},
     "execution_count": 14
    }
   ],
   "source": [
    "data"
   ]
  },
  {
   "cell_type": "code",
   "execution_count": null,
   "metadata": {},
   "outputs": [],
   "source": []
  }
 ],
 "metadata": {
  "language_info": {
   "codemirror_mode": {
    "name": "ipython",
    "version": 3
   },
   "file_extension": ".py",
   "mimetype": "text/x-python",
   "name": "python",
   "nbconvert_exporter": "python",
   "pygments_lexer": "ipython3",
   "version": "3.7.7-final"
  },
  "orig_nbformat": 2,
  "kernelspec": {
   "name": "python37764bitf82c4d7bf9ba4dab804f24620852e35e",
   "display_name": "Python 3.7.7 64-bit"
  }
 },
 "nbformat": 4,
 "nbformat_minor": 2
}